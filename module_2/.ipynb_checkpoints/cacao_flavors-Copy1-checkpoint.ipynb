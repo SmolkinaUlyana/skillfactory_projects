{
 "cells": [
  {
   "cell_type": "markdown",
   "metadata": {},
   "source": [
    "# 1. Описание задачи: \n",
    "\n",
    "Необходимо создать модель, которая бы предсказывала оценку нового продукта конечными пользователями\n",
    "\n",
    "В этом кейсе мы познакомимся с тем, как проводить EDA на примере исследования о качестве шоколадных батончиков. EDA поможет нам первично проверить гипотезу о связи различных переменных с рейтингом батончика.\n",
    "\n",
    "##### В датасете представлены следующие данные:\n",
    "\n",
    "Bar id — ID батончика в базе данных\n",
    "\n",
    "Company (Maker-if known) — название компании, изготовившей батончик.\n",
    "\n",
    "Specific Bean Origin or Bar Name — точное место происхождения какао-бобов.\n",
    "\n",
    "Broad Bean Origin — название региона, где были выращены какао-бобы.\n",
    "\n",
    "Company Location — страна, в которой произведён шоколадный батончик.\n",
    "\n",
    "Bean Type — вид какао-бобов, используемых в батончике.\n",
    "\n",
    "REF — числовое значение, показывающее, как давно ревью было добавлено в базу. Чем выше значение, тем более свежее ревью.\n",
    "\n",
    "Review Date — год публикации рецензии.\n",
    "\n",
    "Cocoa Percent — процент какао в шоколаде.\n",
    "\n",
    "Rating — оценка батончика фокус-группой."
   ]
  },
  {
   "cell_type": "markdown",
   "metadata": {},
   "source": [
    "# 2. Первичный отсмотр данных\n",
    "\n",
    "Импортируем нужные для чтения и первичного анализа библиотеки и прочитаем файл:"
   ]
  },
  {
   "cell_type": "code",
   "execution_count": 40,
   "metadata": {},
   "outputs": [],
   "source": [
    "import pandas as pd\n",
    "import matplotlib.pyplot as plt\n",
    "import seaborn as sns\n",
    "from itertools import combinations\n",
    "from scipy.stats import ttest_ind\n",
    "\n",
    "pd.set_option('display.max_rows', 50) # показывать больше строк\n",
    "pd.set_option('display.max_columns', 50) # показывать больше колонок\n",
    "\n",
    "cacao = pd.read_csv('cacao_flavors.csv')"
   ]
  },
  {
   "cell_type": "markdown",
   "metadata": {},
   "source": [
    "# 3.Первичный анализ данных в столбцах"
   ]
  },
  {
   "cell_type": "markdown",
   "metadata": {},
   "source": [
    "Рассмотрим, какие данные хранятся в файле и какие типы данных у столбцов:"
   ]
  },
  {
   "cell_type": "code",
   "execution_count": 41,
   "metadata": {},
   "outputs": [
    {
     "data": {
      "text/html": [
       "<div>\n",
       "<style scoped>\n",
       "    .dataframe tbody tr th:only-of-type {\n",
       "        vertical-align: middle;\n",
       "    }\n",
       "\n",
       "    .dataframe tbody tr th {\n",
       "        vertical-align: top;\n",
       "    }\n",
       "\n",
       "    .dataframe thead th {\n",
       "        text-align: right;\n",
       "    }\n",
       "</style>\n",
       "<table border=\"1\" class=\"dataframe\">\n",
       "  <thead>\n",
       "    <tr style=\"text-align: right;\">\n",
       "      <th></th>\n",
       "      <th>Bar id</th>\n",
       "      <th>Company \\n(Maker-if known)</th>\n",
       "      <th>Specific Bean Origin\\nor Bar Name</th>\n",
       "      <th>REF</th>\n",
       "      <th>Review\\nDate</th>\n",
       "      <th>Cocoa\\nPercent</th>\n",
       "      <th>Company\\nLocation</th>\n",
       "      <th>Rating</th>\n",
       "      <th>Bean\\nType</th>\n",
       "      <th>Broad Bean\\nOrigin</th>\n",
       "    </tr>\n",
       "  </thead>\n",
       "  <tbody>\n",
       "    <tr>\n",
       "      <th>0</th>\n",
       "      <td>1</td>\n",
       "      <td>A. Morin</td>\n",
       "      <td>Agua Grande</td>\n",
       "      <td>1876</td>\n",
       "      <td>2016</td>\n",
       "      <td>63%</td>\n",
       "      <td>France</td>\n",
       "      <td>11.50</td>\n",
       "      <td></td>\n",
       "      <td>Sao Tome</td>\n",
       "    </tr>\n",
       "    <tr>\n",
       "      <th>1</th>\n",
       "      <td>2</td>\n",
       "      <td>A. Morin</td>\n",
       "      <td>Kpime</td>\n",
       "      <td>1676</td>\n",
       "      <td>2015</td>\n",
       "      <td>70%</td>\n",
       "      <td>France</td>\n",
       "      <td>2.75</td>\n",
       "      <td></td>\n",
       "      <td>Togo</td>\n",
       "    </tr>\n",
       "    <tr>\n",
       "      <th>2</th>\n",
       "      <td>3</td>\n",
       "      <td>A. Morin</td>\n",
       "      <td>Atsane</td>\n",
       "      <td>1676</td>\n",
       "      <td>2015</td>\n",
       "      <td>670%</td>\n",
       "      <td>France</td>\n",
       "      <td>3.00</td>\n",
       "      <td></td>\n",
       "      <td>Togo</td>\n",
       "    </tr>\n",
       "    <tr>\n",
       "      <th>3</th>\n",
       "      <td>4</td>\n",
       "      <td>A. Morin</td>\n",
       "      <td>Akata</td>\n",
       "      <td>1680</td>\n",
       "      <td>2015</td>\n",
       "      <td>70%</td>\n",
       "      <td>France</td>\n",
       "      <td>3.50</td>\n",
       "      <td></td>\n",
       "      <td>Togo</td>\n",
       "    </tr>\n",
       "    <tr>\n",
       "      <th>4</th>\n",
       "      <td>5</td>\n",
       "      <td>A. Morin</td>\n",
       "      <td>Quilla</td>\n",
       "      <td>1704</td>\n",
       "      <td>2015</td>\n",
       "      <td>70%</td>\n",
       "      <td>France</td>\n",
       "      <td>3.50</td>\n",
       "      <td></td>\n",
       "      <td>Peru</td>\n",
       "    </tr>\n",
       "    <tr>\n",
       "      <th>5</th>\n",
       "      <td>6</td>\n",
       "      <td>A. Morin</td>\n",
       "      <td>Carenero</td>\n",
       "      <td>1315</td>\n",
       "      <td>2014</td>\n",
       "      <td>70%</td>\n",
       "      <td>France</td>\n",
       "      <td>2.75</td>\n",
       "      <td>Criollo</td>\n",
       "      <td>Venezuela</td>\n",
       "    </tr>\n",
       "    <tr>\n",
       "      <th>6</th>\n",
       "      <td>7</td>\n",
       "      <td>A. Morin</td>\n",
       "      <td>Cuba</td>\n",
       "      <td>1315</td>\n",
       "      <td>2014</td>\n",
       "      <td>70%</td>\n",
       "      <td>France</td>\n",
       "      <td>3.50</td>\n",
       "      <td></td>\n",
       "      <td>Cuba</td>\n",
       "    </tr>\n",
       "    <tr>\n",
       "      <th>7</th>\n",
       "      <td>8</td>\n",
       "      <td>A. Morin</td>\n",
       "      <td>Sur del Lago</td>\n",
       "      <td>1315</td>\n",
       "      <td>2014</td>\n",
       "      <td>70%</td>\n",
       "      <td>France</td>\n",
       "      <td>11.50</td>\n",
       "      <td>Criollo</td>\n",
       "      <td>Venezuela</td>\n",
       "    </tr>\n",
       "    <tr>\n",
       "      <th>8</th>\n",
       "      <td>9</td>\n",
       "      <td></td>\n",
       "      <td>Puerto Cabello</td>\n",
       "      <td>1319</td>\n",
       "      <td>2014</td>\n",
       "      <td>70%</td>\n",
       "      <td>France</td>\n",
       "      <td>3.75</td>\n",
       "      <td>Criollo</td>\n",
       "      <td>Venezuela</td>\n",
       "    </tr>\n",
       "    <tr>\n",
       "      <th>9</th>\n",
       "      <td>10</td>\n",
       "      <td>A. Morin</td>\n",
       "      <td>Pablino</td>\n",
       "      <td>1319</td>\n",
       "      <td>2014</td>\n",
       "      <td>70%</td>\n",
       "      <td>France</td>\n",
       "      <td>4.00</td>\n",
       "      <td></td>\n",
       "      <td>Peru</td>\n",
       "    </tr>\n",
       "  </tbody>\n",
       "</table>\n",
       "</div>"
      ],
      "text/plain": [
       "   Bar id Company \\n(Maker-if known) Specific Bean Origin\\nor Bar Name   REF  \\\n",
       "0       1                   A. Morin                       Agua Grande  1876   \n",
       "1       2                   A. Morin                             Kpime  1676   \n",
       "2       3                   A. Morin                            Atsane  1676   \n",
       "3       4                   A. Morin                             Akata  1680   \n",
       "4       5                   A. Morin                            Quilla  1704   \n",
       "5       6                   A. Morin                          Carenero  1315   \n",
       "6       7                   A. Morin                              Cuba  1315   \n",
       "7       8                   A. Morin                      Sur del Lago  1315   \n",
       "8       9                                               Puerto Cabello  1319   \n",
       "9      10                   A. Morin                           Pablino  1319   \n",
       "\n",
       "   Review\\nDate Cocoa\\nPercent Company\\nLocation  Rating Bean\\nType  \\\n",
       "0          2016            63%            France   11.50              \n",
       "1          2015            70%            France    2.75              \n",
       "2          2015           670%            France    3.00              \n",
       "3          2015            70%            France    3.50              \n",
       "4          2015            70%            France    3.50              \n",
       "5          2014            70%            France    2.75    Criollo   \n",
       "6          2014            70%            France    3.50              \n",
       "7          2014            70%            France   11.50    Criollo   \n",
       "8          2014            70%            France    3.75    Criollo   \n",
       "9          2014            70%            France    4.00              \n",
       "\n",
       "  Broad Bean\\nOrigin  \n",
       "0           Sao Tome  \n",
       "1               Togo  \n",
       "2               Togo  \n",
       "3               Togo  \n",
       "4               Peru  \n",
       "5          Venezuela  \n",
       "6               Cuba  \n",
       "7          Venezuela  \n",
       "8          Venezuela  \n",
       "9               Peru  "
      ]
     },
     "metadata": {},
     "output_type": "display_data"
    },
    {
     "name": "stdout",
     "output_type": "stream",
     "text": [
      "<class 'pandas.core.frame.DataFrame'>\n",
      "RangeIndex: 1795 entries, 0 to 1794\n",
      "Data columns (total 10 columns):\n",
      " #   Column                            Non-Null Count  Dtype  \n",
      "---  ------                            --------------  -----  \n",
      " 0   Bar id                            1795 non-null   int64  \n",
      " 1   Company \n",
      "(Maker-if known)         1795 non-null   object \n",
      " 2   Specific Bean Origin\n",
      "or Bar Name  1795 non-null   object \n",
      " 3   REF                               1795 non-null   int64  \n",
      " 4   Review\n",
      "Date                       1795 non-null   int64  \n",
      " 5   Cocoa\n",
      "Percent                     1795 non-null   object \n",
      " 6   Company\n",
      "Location                  1795 non-null   object \n",
      " 7   Rating                            1795 non-null   float64\n",
      " 8   Bean\n",
      "Type                         1794 non-null   object \n",
      " 9   Broad Bean\n",
      "Origin                 1794 non-null   object \n",
      "dtypes: float64(1), int64(3), object(6)\n",
      "memory usage: 140.4+ KB\n"
     ]
    }
   ],
   "source": [
    "display(cacao.head(10))\n",
    "cacao.info()"
   ]
  },
  {
   "cell_type": "markdown",
   "metadata": {},
   "source": [
    "Для удобства использования pandas переименуем все столбцы"
   ]
  },
  {
   "cell_type": "code",
   "execution_count": 42,
   "metadata": {},
   "outputs": [
    {
     "data": {
      "text/plain": [
       "Index(['bar_id', 'company', 'specific_origin', 'ref', 'review_date',\n",
       "       'cocoa_percent', 'company_location', 'rating', 'bean_type',\n",
       "       'broad_origin'],\n",
       "      dtype='object')"
      ]
     },
     "execution_count": 42,
     "metadata": {},
     "output_type": "execute_result"
    }
   ],
   "source": [
    "cacao.columns=['bar_id', 'company',\n",
    "       'specific_origin', 'ref', 'review_date',\n",
    "       'cocoa_percent', 'company_location', 'rating', 'bean_type',\n",
    "       'broad_origin']\n",
    "cacao.columns"
   ]
  },
  {
   "cell_type": "markdown",
   "metadata": {},
   "source": [
    "### Рассмотрим все столбцы по-отдельности"
   ]
  },
  {
   "cell_type": "markdown",
   "metadata": {},
   "source": [
    "#### 3.1 bar_id"
   ]
  },
  {
   "cell_type": "code",
   "execution_count": 43,
   "metadata": {},
   "outputs": [
    {
     "name": "stdout",
     "output_type": "stream",
     "text": [
      "1795\n"
     ]
    },
    {
     "data": {
      "text/plain": [
       "[<matplotlib.lines.Line2D at 0x251a2268048>]"
      ]
     },
     "execution_count": 43,
     "metadata": {},
     "output_type": "execute_result"
    },
    {
     "data": {
      "image/png": "[encoded data removed]",
      "text/plain": [
       "<Figure size 432x288 with 1 Axes>"
      ]
     },
     "metadata": {
      "needs_background": "light"
     },
     "output_type": "display_data"
    }
   ],
   "source": [
    "print(cacao.bar_id.nunique())\n",
    "plt.plot(cacao.bar_id)"
   ]
  },
  {
   "cell_type": "markdown",
   "metadata": {},
   "source": [
    "Судя по всему это столбец индексов батончиков, количество уникальных значений соответствует количеству строк. Вряд ли он пригодится для дальнейшего анализа, удалим его:"
   ]
  },
  {
   "cell_type": "code",
   "execution_count": 44,
   "metadata": {},
   "outputs": [],
   "source": [
    "cacao.drop(['bar_id'], inplace = True, axis = 1)"
   ]
  },
  {
   "cell_type": "markdown",
   "metadata": {},
   "source": [
    "#### 3.2 company"
   ]
  },
  {
   "cell_type": "code",
   "execution_count": 45,
   "metadata": {},
   "outputs": [
    {
     "data": {
      "text/html": [
       "<div>\n",
       "<style scoped>\n",
       "    .dataframe tbody tr th:only-of-type {\n",
       "        vertical-align: middle;\n",
       "    }\n",
       "\n",
       "    .dataframe tbody tr th {\n",
       "        vertical-align: top;\n",
       "    }\n",
       "\n",
       "    .dataframe thead th {\n",
       "        text-align: right;\n",
       "    }\n",
       "</style>\n",
       "<table border=\"1\" class=\"dataframe\">\n",
       "  <thead>\n",
       "    <tr style=\"text-align: right;\">\n",
       "      <th></th>\n",
       "      <th>company</th>\n",
       "    </tr>\n",
       "  </thead>\n",
       "  <tbody>\n",
       "    <tr>\n",
       "      <th></th>\n",
       "      <td>99</td>\n",
       "    </tr>\n",
       "    <tr>\n",
       "      <th>Soma</th>\n",
       "      <td>45</td>\n",
       "    </tr>\n",
       "    <tr>\n",
       "      <th>Fresco</th>\n",
       "      <td>26</td>\n",
       "    </tr>\n",
       "    <tr>\n",
       "      <th>Bonnat</th>\n",
       "      <td>26</td>\n",
       "    </tr>\n",
       "    <tr>\n",
       "      <th>Pralus</th>\n",
       "      <td>25</td>\n",
       "    </tr>\n",
       "    <tr>\n",
       "      <th>...</th>\n",
       "      <td>...</td>\n",
       "    </tr>\n",
       "    <tr>\n",
       "      <th>Loiza</th>\n",
       "      <td>1</td>\n",
       "    </tr>\n",
       "    <tr>\n",
       "      <th>Ah Cacao</th>\n",
       "      <td>1</td>\n",
       "    </tr>\n",
       "    <tr>\n",
       "      <th>Lilla</th>\n",
       "      <td>1</td>\n",
       "    </tr>\n",
       "    <tr>\n",
       "      <th>Chocolate Conspiracy</th>\n",
       "      <td>1</td>\n",
       "    </tr>\n",
       "    <tr>\n",
       "      <th>Chuao Chocolatier (Pralus)</th>\n",
       "      <td>1</td>\n",
       "    </tr>\n",
       "  </tbody>\n",
       "</table>\n",
       "<p>408 rows × 1 columns</p>\n",
       "</div>"
      ],
      "text/plain": [
       "                            company\n",
       "                                 99\n",
       "Soma                             45\n",
       "Fresco                           26\n",
       "Bonnat                           26\n",
       "Pralus                           25\n",
       "...                             ...\n",
       "Loiza                             1\n",
       "Ah Cacao                          1\n",
       "Lilla                             1\n",
       "Chocolate Conspiracy              1\n",
       "Chuao Chocolatier (Pralus)        1\n",
       "\n",
       "[408 rows x 1 columns]"
      ]
     },
     "execution_count": 45,
     "metadata": {},
     "output_type": "execute_result"
    }
   ],
   "source": [
    "#Посмотрим, сколько компаний содержит наш датасет\n",
    "pd.DataFrame(cacao.company.value_counts())"
   ]
  },
  {
   "cell_type": "markdown",
   "metadata": {},
   "source": [
    "Датасет содержит 407 компаний, попробуем отфильтровать лишние данные и выведем только те компании, у которых в рейтинге больше 10 продуктов:"
   ]
  },
  {
   "cell_type": "code",
   "execution_count": 46,
   "metadata": {},
   "outputs": [
    {
     "data": {
      "text/html": [
       "<div>\n",
       "<style scoped>\n",
       "    .dataframe tbody tr th:only-of-type {\n",
       "        vertical-align: middle;\n",
       "    }\n",
       "\n",
       "    .dataframe tbody tr th {\n",
       "        vertical-align: top;\n",
       "    }\n",
       "\n",
       "    .dataframe thead th {\n",
       "        text-align: right;\n",
       "    }\n",
       "</style>\n",
       "<table border=\"1\" class=\"dataframe\">\n",
       "  <thead>\n",
       "    <tr style=\"text-align: right;\">\n",
       "      <th></th>\n",
       "      <th>company</th>\n",
       "    </tr>\n",
       "  </thead>\n",
       "  <tbody>\n",
       "    <tr>\n",
       "      <th>Soma</th>\n",
       "      <td>45</td>\n",
       "    </tr>\n",
       "    <tr>\n",
       "      <th>Bonnat</th>\n",
       "      <td>26</td>\n",
       "    </tr>\n",
       "    <tr>\n",
       "      <th>Fresco</th>\n",
       "      <td>26</td>\n",
       "    </tr>\n",
       "    <tr>\n",
       "      <th>Pralus</th>\n",
       "      <td>25</td>\n",
       "    </tr>\n",
       "    <tr>\n",
       "      <th>Domori</th>\n",
       "      <td>22</td>\n",
       "    </tr>\n",
       "    <tr>\n",
       "      <th>...</th>\n",
       "      <td>...</td>\n",
       "    </tr>\n",
       "    <tr>\n",
       "      <th>Whittakers</th>\n",
       "      <td>1</td>\n",
       "    </tr>\n",
       "    <tr>\n",
       "      <th>Ah Cacao</th>\n",
       "      <td>1</td>\n",
       "    </tr>\n",
       "    <tr>\n",
       "      <th>Loiza</th>\n",
       "      <td>1</td>\n",
       "    </tr>\n",
       "    <tr>\n",
       "      <th>Durand</th>\n",
       "      <td>1</td>\n",
       "    </tr>\n",
       "    <tr>\n",
       "      <th>Mayacama</th>\n",
       "      <td>1</td>\n",
       "    </tr>\n",
       "  </tbody>\n",
       "</table>\n",
       "<p>407 rows × 1 columns</p>\n",
       "</div>"
      ],
      "text/plain": [
       "            company\n",
       "Soma             45\n",
       "Bonnat           26\n",
       "Fresco           26\n",
       "Pralus           25\n",
       "Domori           22\n",
       "...             ...\n",
       "Whittakers        1\n",
       "Ah Cacao          1\n",
       "Loiza             1\n",
       "Durand            1\n",
       "Mayacama          1\n",
       "\n",
       "[407 rows x 1 columns]"
      ]
     },
     "metadata": {},
     "output_type": "display_data"
    },
    {
     "name": "stdout",
     "output_type": "stream",
     "text": [
      "Значений, встретившихся в столбце более 10 раз: 30\n",
      "<class 'pandas.core.frame.DataFrame'>\n",
      "RangeIndex: 1795 entries, 0 to 1794\n",
      "Data columns (total 1 columns):\n",
      " #   Column   Non-Null Count  Dtype \n",
      "---  ------   --------------  ----- \n",
      " 0   company  1696 non-null   object\n",
      "dtypes: object(1)\n",
      "memory usage: 14.1+ KB\n"
     ]
    }
   ],
   "source": [
    "cacao.company = cacao.company.apply(lambda x: None if x.strip() == '' else x)\n",
    "\n",
    "display(pd.DataFrame(cacao.company.value_counts()))\n",
    "print(\"Значений, встретившихся в столбце более 10 раз:\"#Число 10 взято для ориентира, можно брать другое\n",
    "      , (cacao.company.value_counts()>10).sum())\n",
    "cacao.loc[:, ['company']].info()"
   ]
  },
  {
   "cell_type": "markdown",
   "metadata": {},
   "source": [
    "Итого у нас 407 уникальных значений и 99 строк, в которых производитель неизвестен. А вот компаний, у которых в рейтинге больше 10 батончиков, всего 30. Заполнить пропуски на данный момент не представляется возможным, так как вариантов для заполнения слишком много"
   ]
  },
  {
   "cell_type": "markdown",
   "metadata": {},
   "source": [
    "#### 3.3 specific_origin\n",
    "\n",
    "Cделаем то же самое для столбца с местом происхождения какао-бобов:"
   ]
  },
  {
   "cell_type": "code",
   "execution_count": 47,
   "metadata": {},
   "outputs": [
    {
     "data": {
      "text/html": [
       "<div>\n",
       "<style scoped>\n",
       "    .dataframe tbody tr th:only-of-type {\n",
       "        vertical-align: middle;\n",
       "    }\n",
       "\n",
       "    .dataframe tbody tr th {\n",
       "        vertical-align: top;\n",
       "    }\n",
       "\n",
       "    .dataframe thead th {\n",
       "        text-align: right;\n",
       "    }\n",
       "</style>\n",
       "<table border=\"1\" class=\"dataframe\">\n",
       "  <thead>\n",
       "    <tr style=\"text-align: right;\">\n",
       "      <th></th>\n",
       "      <th>specific_origin</th>\n",
       "    </tr>\n",
       "  </thead>\n",
       "  <tbody>\n",
       "    <tr>\n",
       "      <th></th>\n",
       "      <td>58</td>\n",
       "    </tr>\n",
       "    <tr>\n",
       "      <th>Madagascar</th>\n",
       "      <td>55</td>\n",
       "    </tr>\n",
       "    <tr>\n",
       "      <th>Peru</th>\n",
       "      <td>44</td>\n",
       "    </tr>\n",
       "    <tr>\n",
       "      <th>Ecuador</th>\n",
       "      <td>39</td>\n",
       "    </tr>\n",
       "    <tr>\n",
       "      <th>Dominican Republic</th>\n",
       "      <td>33</td>\n",
       "    </tr>\n",
       "    <tr>\n",
       "      <th>...</th>\n",
       "      <td>...</td>\n",
       "    </tr>\n",
       "    <tr>\n",
       "      <th>Alta Verapaz, 2014</th>\n",
       "      <td>1</td>\n",
       "    </tr>\n",
       "    <tr>\n",
       "      <th>Aragua, Trincheras</th>\n",
       "      <td>1</td>\n",
       "    </tr>\n",
       "    <tr>\n",
       "      <th>Choroni, Finca Torres, 48hr c.</th>\n",
       "      <td>1</td>\n",
       "    </tr>\n",
       "    <tr>\n",
       "      <th>Bali, Jembrana</th>\n",
       "      <td>1</td>\n",
       "    </tr>\n",
       "    <tr>\n",
       "      <th>Tumbes, 2013 Harvest, Batch 8</th>\n",
       "      <td>1</td>\n",
       "    </tr>\n",
       "  </tbody>\n",
       "</table>\n",
       "<p>1013 rows × 1 columns</p>\n",
       "</div>"
      ],
      "text/plain": [
       "                                specific_origin\n",
       "                                             58\n",
       "Madagascar                                   55\n",
       "Peru                                         44\n",
       "Ecuador                                      39\n",
       "Dominican Republic                           33\n",
       "...                                         ...\n",
       "Alta Verapaz, 2014                            1\n",
       "Aragua, Trincheras                            1\n",
       "Choroni, Finca Torres, 48hr c.                1\n",
       "Bali, Jembrana                                1\n",
       "Tumbes, 2013 Harvest, Batch 8                 1\n",
       "\n",
       "[1013 rows x 1 columns]"
      ]
     },
     "execution_count": 47,
     "metadata": {},
     "output_type": "execute_result"
    }
   ],
   "source": [
    "#Посмотрим, сколько регионов содержит наш датасет\n",
    "pd.DataFrame(cacao.specific_origin.value_counts())"
   ]
  },
  {
   "cell_type": "code",
   "execution_count": 48,
   "metadata": {},
   "outputs": [
    {
     "data": {
      "text/html": [
       "<div>\n",
       "<style scoped>\n",
       "    .dataframe tbody tr th:only-of-type {\n",
       "        vertical-align: middle;\n",
       "    }\n",
       "\n",
       "    .dataframe tbody tr th {\n",
       "        vertical-align: top;\n",
       "    }\n",
       "\n",
       "    .dataframe thead th {\n",
       "        text-align: right;\n",
       "    }\n",
       "</style>\n",
       "<table border=\"1\" class=\"dataframe\">\n",
       "  <thead>\n",
       "    <tr style=\"text-align: right;\">\n",
       "      <th></th>\n",
       "      <th>specific_origin</th>\n",
       "    </tr>\n",
       "  </thead>\n",
       "  <tbody>\n",
       "    <tr>\n",
       "      <th>Madagascar</th>\n",
       "      <td>55</td>\n",
       "    </tr>\n",
       "    <tr>\n",
       "      <th>Peru</th>\n",
       "      <td>44</td>\n",
       "    </tr>\n",
       "    <tr>\n",
       "      <th>Ecuador</th>\n",
       "      <td>39</td>\n",
       "    </tr>\n",
       "    <tr>\n",
       "      <th>Dominican Republic</th>\n",
       "      <td>33</td>\n",
       "    </tr>\n",
       "    <tr>\n",
       "      <th>Venezuela</th>\n",
       "      <td>21</td>\n",
       "    </tr>\n",
       "    <tr>\n",
       "      <th>...</th>\n",
       "      <td>...</td>\n",
       "    </tr>\n",
       "    <tr>\n",
       "      <th>Alta Verapaz, 2014</th>\n",
       "      <td>1</td>\n",
       "    </tr>\n",
       "    <tr>\n",
       "      <th>Aragua, Trincheras</th>\n",
       "      <td>1</td>\n",
       "    </tr>\n",
       "    <tr>\n",
       "      <th>Choroni, Finca Torres, 48hr c.</th>\n",
       "      <td>1</td>\n",
       "    </tr>\n",
       "    <tr>\n",
       "      <th>Bali, Jembrana</th>\n",
       "      <td>1</td>\n",
       "    </tr>\n",
       "    <tr>\n",
       "      <th>Tumbes, 2013 Harvest, Batch 8</th>\n",
       "      <td>1</td>\n",
       "    </tr>\n",
       "  </tbody>\n",
       "</table>\n",
       "<p>1012 rows × 1 columns</p>\n",
       "</div>"
      ],
      "text/plain": [
       "                                specific_origin\n",
       "Madagascar                                   55\n",
       "Peru                                         44\n",
       "Ecuador                                      39\n",
       "Dominican Republic                           33\n",
       "Venezuela                                    21\n",
       "...                                         ...\n",
       "Alta Verapaz, 2014                            1\n",
       "Aragua, Trincheras                            1\n",
       "Choroni, Finca Torres, 48hr c.                1\n",
       "Bali, Jembrana                                1\n",
       "Tumbes, 2013 Harvest, Batch 8                 1\n",
       "\n",
       "[1012 rows x 1 columns]"
      ]
     },
     "metadata": {},
     "output_type": "display_data"
    },
    {
     "name": "stdout",
     "output_type": "stream",
     "text": [
      "Значений, встретившихся в столбце более 10 раз: 15\n",
      "<class 'pandas.core.frame.DataFrame'>\n",
      "RangeIndex: 1795 entries, 0 to 1794\n",
      "Data columns (total 1 columns):\n",
      " #   Column           Non-Null Count  Dtype \n",
      "---  ------           --------------  ----- \n",
      " 0   specific_origin  1737 non-null   object\n",
      "dtypes: object(1)\n",
      "memory usage: 14.1+ KB\n"
     ]
    }
   ],
   "source": [
    "cacao.specific_origin = cacao.specific_origin.apply(lambda x: None if x.strip() == '' else x)\n",
    "\n",
    "display(pd.DataFrame(cacao.specific_origin.value_counts()))\n",
    "print(\"Значений, встретившихся в столбце более 10 раз:\"\n",
    "      , (cacao.specific_origin.value_counts()>10).sum())\n",
    "cacao.loc[:, ['specific_origin']].info()"
   ]
  },
  {
   "cell_type": "markdown",
   "metadata": {},
   "source": [
    "#### 3.4 ref"
   ]
  },
  {
   "cell_type": "code",
   "execution_count": 49,
   "metadata": {},
   "outputs": [
    {
     "data": {
      "text/plain": [
       "count    1795.000000\n",
       "mean     1035.904735\n",
       "std       552.886365\n",
       "min         5.000000\n",
       "25%       576.000000\n",
       "50%      1069.000000\n",
       "75%      1502.000000\n",
       "max      1952.000000\n",
       "Name: ref, dtype: float64"
      ]
     },
     "execution_count": 49,
     "metadata": {},
     "output_type": "execute_result"
    },
    {
     "data": {
      "image/png": "[encoded data removed]",
      "text/plain": [
       "<Figure size 432x288 with 1 Axes>"
      ]
     },
     "metadata": {
      "needs_background": "light"
     },
     "output_type": "display_data"
    }
   ],
   "source": [
    "#Этот столбец числовой и без пропусков. Поэтому посмотрим на его распределение:\n",
    "cacao.ref.hist()\n",
    "cacao.ref.describe()"
   ]
  },
  {
   "cell_type": "markdown",
   "metadata": {},
   "source": [
    "Как видно, у этого признака нормальное распределение, выбросов нет. Заметен тренд на возрастание количества отзывов со временем (так как REF обозначает время внесения отзыва в базу)"
   ]
  },
  {
   "cell_type": "markdown",
   "metadata": {},
   "source": [
    "#### 3.5 review_date"
   ]
  },
  {
   "cell_type": "code",
   "execution_count": 50,
   "metadata": {},
   "outputs": [
    {
     "data": {
      "text/plain": [
       "count    1795.000000\n",
       "mean     2012.325348\n",
       "std         2.927210\n",
       "min      2006.000000\n",
       "25%      2010.000000\n",
       "50%      2013.000000\n",
       "75%      2015.000000\n",
       "max      2017.000000\n",
       "Name: review_date, dtype: float64"
      ]
     },
     "execution_count": 50,
     "metadata": {},
     "output_type": "execute_result"
    },
    {
     "data": {
      "image/png": "[encoded data removed]",
      "text/plain": [
       "<Figure size 432x288 with 1 Axes>"
      ]
     },
     "metadata": {
      "needs_background": "light"
     },
     "output_type": "display_data"
    }
   ],
   "source": [
    "#Этот столбец также числовой и у него также нет пропусков. Как ведет себя распределение этого признака?\n",
    "cacao.review_date.hist()\n",
    "cacao.review_date.describe()"
   ]
  },
  {
   "cell_type": "markdown",
   "metadata": {},
   "source": [
    "Здесь также заметен тренд на увеличение ревью со временем. В данных столбца выбросов нет"
   ]
  },
  {
   "cell_type": "markdown",
   "metadata": {},
   "source": [
    "#### 3.6 cocoa_percent"
   ]
  },
  {
   "cell_type": "code",
   "execution_count": 51,
   "metadata": {},
   "outputs": [
    {
     "data": {
      "text/plain": [
       "0        63%\n",
       "1        70%\n",
       "2       670%\n",
       "3        70%\n",
       "4        70%\n",
       "        ... \n",
       "1790     70%\n",
       "1791     65%\n",
       "1792     65%\n",
       "1793     62%\n",
       "1794     65%\n",
       "Name: cocoa_percent, Length: 1795, dtype: object"
      ]
     },
     "execution_count": 51,
     "metadata": {},
     "output_type": "execute_result"
    }
   ],
   "source": [
    "# Посмотрим на данные в столбце \n",
    "cacao.cocoa_percent"
   ]
  },
  {
   "cell_type": "code",
   "execution_count": 52,
   "metadata": {},
   "outputs": [],
   "source": [
    "#Значения в столбцах представлены в виде процентов. Для дальнейшего анализа будет проще, если они будут представлены числами. Трансформируем столбец:\n",
    "cacao.cocoa_percent = cacao.cocoa_percent.apply(lambda x: float(x.replace('%', '')))"
   ]
  },
  {
   "cell_type": "code",
   "execution_count": 53,
   "metadata": {},
   "outputs": [
    {
     "data": {
      "text/plain": [
       "count    1795.000000\n",
       "mean       75.932312\n",
       "std        44.475981\n",
       "min        42.000000\n",
       "25%        70.000000\n",
       "50%        70.000000\n",
       "75%        75.000000\n",
       "max       682.000000\n",
       "Name: cocoa_percent, dtype: float64"
      ]
     },
     "execution_count": 53,
     "metadata": {},
     "output_type": "execute_result"
    },
    {
     "data": {
      "image/png": "[encoded data removed]",
      "text/plain": [
       "<Figure size 432x288 with 1 Axes>"
      ]
     },
     "metadata": {
      "needs_background": "light"
     },
     "output_type": "display_data"
    }
   ],
   "source": [
    "#Посмотрим распределение признака:\n",
    "cacao.cocoa_percent.hist()\n",
    "cacao.cocoa_percent.describe()"
   ]
  },
  {
   "cell_type": "markdown",
   "metadata": {},
   "source": [
    "Видим, что основное распределение лежит между  и  процентами и есть потенциальные выбросы свыше % (об этом нам говорит здравый смысл).\n",
    "Самый простой способ отфильтровать выбросы — воспользоваться формулой интерквартильного расстояния (межквартильного размаха). Выбросом считаются такие значения, которые лежат вне рамок\n",
    "percentile(25) -1.5*IQR : percentile(75)+1.5*IQR,\n",
    "где IQR = percentile(75) - percentile(25).\n",
    "\n",
    "Однако такой способ отбора выбросов работает не всегда. Когда мы знаем потенциальные характеристики распределения, лучше отобрать их, пользуясь здравым смыслом. Как видно, формула выбросов в нашем случае помечает как выбросы слишком много потенциально реальных значений, поэтому воспользуемся здравым смыслом. Очевидно, что при сборе данных произошла ошибка. К сожалению, такое случается нередко."
   ]
  },
  {
   "cell_type": "code",
   "execution_count": 54,
   "metadata": {},
   "outputs": [
    {
     "name": "stdout",
     "output_type": "stream",
     "text": [
      "25-й перцентиль: 70.0, 75-й перцентиль: 75.0, IQR: 5.0,  Границы выбросов: [62.5, 82.5].\n"
     ]
    },
    {
     "data": {
      "image/png": "[encoded data removed]",
      "text/plain": [
       "<Figure size 432x288 with 1 Axes>"
      ]
     },
     "metadata": {
      "needs_background": "light"
     },
     "output_type": "display_data"
    }
   ],
   "source": [
    "median = cacao.cocoa_percent.median()\n",
    "IQR = cacao.cocoa_percent.quantile(0.75) - cacao.cocoa_percent.quantile(0.25)\n",
    "perc25 = cacao.cocoa_percent.quantile(0.25)\n",
    "perc75 = cacao.cocoa_percent.quantile(0.75)\n",
    "print('25-й перцентиль: {},'.format(perc25), '75-й перцентиль: {},'.format(perc75)\n",
    "      , \"IQR: {}, \".format(IQR),\"Границы выбросов: [{f}, {l}].\".format(f=perc25 - 1.5*IQR, l=perc75 + 1.5*IQR))\n",
    "cacao.cocoa_percent.loc[cacao.cocoa_percent.between(perc25 - 1.5*IQR, perc75 + 1.5*IQR)].hist(bins = 16\n",
    "                                                                                              , range = (40, 100), \n",
    "                                                                                             label = 'IQR')\n",
    "cacao.cocoa_percent.loc[cacao.cocoa_percent <= 100].hist(alpha = 0.5, bins = 16, range = (40, 100),\n",
    "                                                        label = 'Здравый смысл')\n",
    "plt.legend();\n",
    "\n",
    "# Оставим значения меньше 100%\n",
    "cacao = cacao.loc[cacao.cocoa_percent <= 100]"
   ]
  },
  {
   "cell_type": "markdown",
   "metadata": {},
   "source": [
    "#### 3.7 company_location"
   ]
  },
  {
   "cell_type": "code",
   "execution_count": 55,
   "metadata": {},
   "outputs": [
    {
     "data": {
      "text/plain": [
       "0        France\n",
       "1        France\n",
       "3        France\n",
       "4        France\n",
       "5        France\n",
       "         ...   \n",
       "1790    Austria\n",
       "1791    Austria\n",
       "1792    Austria\n",
       "1793    Austria\n",
       "1794    Austria\n",
       "Name: company_location, Length: 1776, dtype: object"
      ]
     },
     "execution_count": 55,
     "metadata": {},
     "output_type": "execute_result"
    }
   ],
   "source": [
    "cacao.company_location"
   ]
  },
  {
   "cell_type": "markdown",
   "metadata": {},
   "source": [
    "Стран намного меньше, чем регионов — всего 60. Стран, у которых больше 10 ревью — целых 22. Пустых значений нет"
   ]
  },
  {
   "cell_type": "code",
   "execution_count": 56,
   "metadata": {},
   "outputs": [
    {
     "data": {
      "text/html": [
       "<div>\n",
       "<style scoped>\n",
       "    .dataframe tbody tr th:only-of-type {\n",
       "        vertical-align: middle;\n",
       "    }\n",
       "\n",
       "    .dataframe tbody tr th {\n",
       "        vertical-align: top;\n",
       "    }\n",
       "\n",
       "    .dataframe thead th {\n",
       "        text-align: right;\n",
       "    }\n",
       "</style>\n",
       "<table border=\"1\" class=\"dataframe\">\n",
       "  <thead>\n",
       "    <tr style=\"text-align: right;\">\n",
       "      <th></th>\n",
       "      <th>company_location</th>\n",
       "    </tr>\n",
       "  </thead>\n",
       "  <tbody>\n",
       "    <tr>\n",
       "      <th>U.S.A.</th>\n",
       "      <td>756</td>\n",
       "    </tr>\n",
       "    <tr>\n",
       "      <th>France</th>\n",
       "      <td>155</td>\n",
       "    </tr>\n",
       "    <tr>\n",
       "      <th>Canada</th>\n",
       "      <td>124</td>\n",
       "    </tr>\n",
       "    <tr>\n",
       "      <th>U.K.</th>\n",
       "      <td>94</td>\n",
       "    </tr>\n",
       "    <tr>\n",
       "      <th>Italy</th>\n",
       "      <td>63</td>\n",
       "    </tr>\n",
       "    <tr>\n",
       "      <th>...</th>\n",
       "      <td>...</td>\n",
       "    </tr>\n",
       "    <tr>\n",
       "      <th>Czech Republic</th>\n",
       "      <td>1</td>\n",
       "    </tr>\n",
       "    <tr>\n",
       "      <th>Philippines</th>\n",
       "      <td>1</td>\n",
       "    </tr>\n",
       "    <tr>\n",
       "      <th>Martinique</th>\n",
       "      <td>1</td>\n",
       "    </tr>\n",
       "    <tr>\n",
       "      <th>India</th>\n",
       "      <td>1</td>\n",
       "    </tr>\n",
       "    <tr>\n",
       "      <th>Wales</th>\n",
       "      <td>1</td>\n",
       "    </tr>\n",
       "  </tbody>\n",
       "</table>\n",
       "<p>60 rows × 1 columns</p>\n",
       "</div>"
      ],
      "text/plain": [
       "                company_location\n",
       "U.S.A.                       756\n",
       "France                       155\n",
       "Canada                       124\n",
       "U.K.                          94\n",
       "Italy                         63\n",
       "...                          ...\n",
       "Czech Republic                 1\n",
       "Philippines                    1\n",
       "Martinique                     1\n",
       "India                          1\n",
       "Wales                          1\n",
       "\n",
       "[60 rows x 1 columns]"
      ]
     },
     "metadata": {},
     "output_type": "display_data"
    },
    {
     "name": "stdout",
     "output_type": "stream",
     "text": [
      "Значений, встретившихся в столбце более 10 раз: 22\n",
      "<class 'pandas.core.frame.DataFrame'>\n",
      "Int64Index: 1776 entries, 0 to 1794\n",
      "Data columns (total 1 columns):\n",
      " #   Column            Non-Null Count  Dtype \n",
      "---  ------            --------------  ----- \n",
      " 0   company_location  1776 non-null   object\n",
      "dtypes: object(1)\n",
      "memory usage: 27.8+ KB\n"
     ]
    }
   ],
   "source": [
    "display(pd.DataFrame(cacao.company_location.value_counts()))\n",
    "print(\"Значений, встретившихся в столбце более 10 раз:\", (cacao.company_location.value_counts()>10).sum())\n",
    "cacao.loc[:, ['company_location']].info()"
   ]
  },
  {
   "cell_type": "markdown",
   "metadata": {},
   "source": [
    "#### 3.8 rating"
   ]
  },
  {
   "cell_type": "code",
   "execution_count": 57,
   "metadata": {},
   "outputs": [
    {
     "data": {
      "text/plain": [
       "0       11.50\n",
       "1        2.75\n",
       "3        3.50\n",
       "4        3.50\n",
       "5        2.75\n",
       "        ...  \n",
       "1790     3.75\n",
       "1791     3.00\n",
       "1792     3.50\n",
       "1793     3.25\n",
       "1794     3.00\n",
       "Name: rating, Length: 1776, dtype: float64"
      ]
     },
     "execution_count": 57,
     "metadata": {},
     "output_type": "execute_result"
    }
   ],
   "source": [
    "cacao.rating"
   ]
  },
  {
   "cell_type": "code",
   "execution_count": 58,
   "metadata": {},
   "outputs": [
    {
     "data": {
      "text/plain": [
       "count    1776.000000\n",
       "mean        3.425816\n",
       "std         1.759007\n",
       "min         1.000000\n",
       "25%         3.000000\n",
       "50%         3.250000\n",
       "75%         3.500000\n",
       "max        19.750000\n",
       "Name: rating, dtype: float64"
      ]
     },
     "execution_count": 58,
     "metadata": {},
     "output_type": "execute_result"
    },
    {
     "data": {
      "image/png": "[encoded data removed]",
      "text/plain": [
       "<Figure size 432x288 with 1 Axes>"
      ]
     },
     "metadata": {
      "needs_background": "light"
     },
     "output_type": "display_data"
    }
   ],
   "source": [
    "#Посмотрим на распределение оценок:\n",
    "cacao.rating.hist()\n",
    "cacao.rating.describe()"
   ]
  },
  {
   "cell_type": "markdown",
   "metadata": {},
   "source": [
    "Как мы видим, большинство оценок распределены между 3 и 3.5 (медиана 3.25, 25-й перцентиль 3 и 75-й — 3.5), что позволяет сделать два предположения:\n",
    "\n",
    "Скорее всего была использована пятибалльная шкала оценивания\n",
    "В данных есть выбросы.\n",
    " Давайте это проверим:"
   ]
  },
  {
   "cell_type": "code",
   "execution_count": 59,
   "metadata": {},
   "outputs": [
    {
     "name": "stdout",
     "output_type": "stream",
     "text": [
      "25-й перцентиль: 3.0, 75-й перцентиль: 3.5, IQR: 0.5,  Границы выбросов: [2.25, 4.25].\n"
     ]
    },
    {
     "data": {
      "image/png": "[encoded data removed]",
      "text/plain": [
       "<Figure size 432x288 with 1 Axes>"
      ]
     },
     "metadata": {
      "needs_background": "light"
     },
     "output_type": "display_data"
    }
   ],
   "source": [
    "median = cacao.rating.median()\n",
    "IQR = cacao.rating.quantile(0.75) - cacao.rating.quantile(0.25)\n",
    "perc25 = cacao.rating.quantile(0.25)\n",
    "perc75 = cacao.rating.quantile(0.75)\n",
    "print('25-й перцентиль: {},'.format(perc25), '75-й перцентиль: {},'.format(perc75)\n",
    "      , \"IQR: {}, \".format(IQR),\"Границы выбросов: [{f}, {l}].\".format(f=perc25 - 1.5*IQR, l=perc75 + 1.5*IQR))\n",
    "cacao.rating.loc[cacao.rating.between(perc25 - 1.5*IQR, perc75 + 1.5*IQR)].hist(bins = 10, range = (0, 10), \n",
    "                                                                                             label = 'IQR')\n",
    "plt.legend();\n"
   ]
  },
  {
   "cell_type": "markdown",
   "metadata": {},
   "source": [
    "Этот способ позволил нам отобрать экстремально низкие и экстремально высокие оценки. Отфильтруем данные:"
   ]
  },
  {
   "cell_type": "code",
   "execution_count": 60,
   "metadata": {},
   "outputs": [],
   "source": [
    "cacao = cacao.loc[cacao.rating.between(perc25 - 1.5*IQR, perc75 + 1.5*IQR)]"
   ]
  },
  {
   "cell_type": "markdown",
   "metadata": {},
   "source": [
    "#### 3.9 bean_type\n",
    "Сразу заменим пропуски на None:"
   ]
  },
  {
   "cell_type": "code",
   "execution_count": 61,
   "metadata": {},
   "outputs": [
    {
     "data": {
      "text/html": [
       "<div>\n",
       "<style scoped>\n",
       "    .dataframe tbody tr th:only-of-type {\n",
       "        vertical-align: middle;\n",
       "    }\n",
       "\n",
       "    .dataframe tbody tr th {\n",
       "        vertical-align: top;\n",
       "    }\n",
       "\n",
       "    .dataframe thead th {\n",
       "        text-align: right;\n",
       "    }\n",
       "</style>\n",
       "<table border=\"1\" class=\"dataframe\">\n",
       "  <thead>\n",
       "    <tr style=\"text-align: right;\">\n",
       "      <th></th>\n",
       "      <th>bean_type</th>\n",
       "    </tr>\n",
       "  </thead>\n",
       "  <tbody>\n",
       "    <tr>\n",
       "      <th>Trinitario</th>\n",
       "      <td>401</td>\n",
       "    </tr>\n",
       "    <tr>\n",
       "      <th>Criollo</th>\n",
       "      <td>147</td>\n",
       "    </tr>\n",
       "    <tr>\n",
       "      <th>Forastero</th>\n",
       "      <td>81</td>\n",
       "    </tr>\n",
       "    <tr>\n",
       "      <th>Forastero (Nacional)</th>\n",
       "      <td>50</td>\n",
       "    </tr>\n",
       "    <tr>\n",
       "      <th>Criollo, Trinitario</th>\n",
       "      <td>37</td>\n",
       "    </tr>\n",
       "    <tr>\n",
       "      <th>Blend</th>\n",
       "      <td>36</td>\n",
       "    </tr>\n",
       "    <tr>\n",
       "      <th>Forastero (Arriba)</th>\n",
       "      <td>30</td>\n",
       "    </tr>\n",
       "    <tr>\n",
       "      <th>Criollo (Porcelana)</th>\n",
       "      <td>10</td>\n",
       "    </tr>\n",
       "    <tr>\n",
       "      <th>Trinitario, Criollo</th>\n",
       "      <td>9</td>\n",
       "    </tr>\n",
       "    <tr>\n",
       "      <th>Forastero (Parazinho)</th>\n",
       "      <td>8</td>\n",
       "    </tr>\n",
       "    <tr>\n",
       "      <th>Forastero (Arriba) ASS</th>\n",
       "      <td>5</td>\n",
       "    </tr>\n",
       "    <tr>\n",
       "      <th>EET</th>\n",
       "      <td>3</td>\n",
       "    </tr>\n",
       "    <tr>\n",
       "      <th>Beniano</th>\n",
       "      <td>3</td>\n",
       "    </tr>\n",
       "    <tr>\n",
       "      <th>Nacional (Arriba)</th>\n",
       "      <td>3</td>\n",
       "    </tr>\n",
       "    <tr>\n",
       "      <th>Matina</th>\n",
       "      <td>3</td>\n",
       "    </tr>\n",
       "    <tr>\n",
       "      <th>Amazon, ICS</th>\n",
       "      <td>2</td>\n",
       "    </tr>\n",
       "    <tr>\n",
       "      <th>Criollo, Forastero</th>\n",
       "      <td>2</td>\n",
       "    </tr>\n",
       "    <tr>\n",
       "      <th>Trinitario (85% Criollo)</th>\n",
       "      <td>2</td>\n",
       "    </tr>\n",
       "    <tr>\n",
       "      <th>Criollo (Amarru)</th>\n",
       "      <td>2</td>\n",
       "    </tr>\n",
       "    <tr>\n",
       "      <th>Criollo (Ocumare 61)</th>\n",
       "      <td>2</td>\n",
       "    </tr>\n",
       "    <tr>\n",
       "      <th>Forastero (Catongo)</th>\n",
       "      <td>2</td>\n",
       "    </tr>\n",
       "    <tr>\n",
       "      <th>Nacional</th>\n",
       "      <td>2</td>\n",
       "    </tr>\n",
       "    <tr>\n",
       "      <th>Amazon mix</th>\n",
       "      <td>2</td>\n",
       "    </tr>\n",
       "    <tr>\n",
       "      <th>Trinitario, Forastero</th>\n",
       "      <td>2</td>\n",
       "    </tr>\n",
       "    <tr>\n",
       "      <th>Amazon</th>\n",
       "      <td>1</td>\n",
       "    </tr>\n",
       "    <tr>\n",
       "      <th>Forastero(Arriba, CCN)</th>\n",
       "      <td>1</td>\n",
       "    </tr>\n",
       "    <tr>\n",
       "      <th>CCN51</th>\n",
       "      <td>1</td>\n",
       "    </tr>\n",
       "    <tr>\n",
       "      <th>Criollo (Ocumare 67)</th>\n",
       "      <td>1</td>\n",
       "    </tr>\n",
       "    <tr>\n",
       "      <th>Criollo, +</th>\n",
       "      <td>1</td>\n",
       "    </tr>\n",
       "    <tr>\n",
       "      <th>Trinitario (Amelonado)</th>\n",
       "      <td>1</td>\n",
       "    </tr>\n",
       "    <tr>\n",
       "      <th>Blend-Forastero,Criollo</th>\n",
       "      <td>1</td>\n",
       "    </tr>\n",
       "    <tr>\n",
       "      <th>Criollo (Ocumare 77)</th>\n",
       "      <td>1</td>\n",
       "    </tr>\n",
       "    <tr>\n",
       "      <th>Trinitario (Scavina)</th>\n",
       "      <td>1</td>\n",
       "    </tr>\n",
       "    <tr>\n",
       "      <th>Trinitario, TCGA</th>\n",
       "      <td>1</td>\n",
       "    </tr>\n",
       "    <tr>\n",
       "      <th>nan</th>\n",
       "      <td>1</td>\n",
       "    </tr>\n",
       "    <tr>\n",
       "      <th>Forastero, Trinitario</th>\n",
       "      <td>1</td>\n",
       "    </tr>\n",
       "    <tr>\n",
       "      <th>Forastero (Arriba) ASSS</th>\n",
       "      <td>1</td>\n",
       "    </tr>\n",
       "    <tr>\n",
       "      <th>Forastero (Amelonado)</th>\n",
       "      <td>1</td>\n",
       "    </tr>\n",
       "    <tr>\n",
       "      <th>Trinitario, Nacional</th>\n",
       "      <td>1</td>\n",
       "    </tr>\n",
       "    <tr>\n",
       "      <th>Criollo (Ocumare)</th>\n",
       "      <td>1</td>\n",
       "    </tr>\n",
       "    <tr>\n",
       "      <th>Criollo (Wild)</th>\n",
       "      <td>1</td>\n",
       "    </tr>\n",
       "  </tbody>\n",
       "</table>\n",
       "</div>"
      ],
      "text/plain": [
       "                          bean_type\n",
       "Trinitario                      401\n",
       "Criollo                         147\n",
       "Forastero                        81\n",
       "Forastero (Nacional)             50\n",
       "Criollo, Trinitario              37\n",
       "Blend                            36\n",
       "Forastero (Arriba)               30\n",
       "Criollo (Porcelana)              10\n",
       "Trinitario, Criollo               9\n",
       "Forastero (Parazinho)             8\n",
       "Forastero (Arriba) ASS            5\n",
       "EET                               3\n",
       "Beniano                           3\n",
       "Nacional (Arriba)                 3\n",
       "Matina                            3\n",
       "Amazon, ICS                       2\n",
       "Criollo, Forastero                2\n",
       "Trinitario (85% Criollo)          2\n",
       "Criollo (Amarru)                  2\n",
       "Criollo (Ocumare 61)              2\n",
       "Forastero (Catongo)               2\n",
       "Nacional                          2\n",
       "Amazon mix                        2\n",
       "Trinitario, Forastero             2\n",
       "Amazon                            1\n",
       "Forastero(Arriba, CCN)            1\n",
       "CCN51                             1\n",
       "Criollo (Ocumare 67)              1\n",
       "Criollo, +                        1\n",
       "Trinitario (Amelonado)            1\n",
       "Blend-Forastero,Criollo           1\n",
       "Criollo (Ocumare 77)              1\n",
       "Trinitario (Scavina)              1\n",
       "Trinitario, TCGA                  1\n",
       "nan                               1\n",
       "Forastero, Trinitario             1\n",
       "Forastero (Arriba) ASSS           1\n",
       "Forastero (Amelonado)             1\n",
       "Trinitario, Nacional              1\n",
       "Criollo (Ocumare)                 1\n",
       "Criollo (Wild)                    1"
      ]
     },
     "metadata": {},
     "output_type": "display_data"
    },
    {
     "name": "stdout",
     "output_type": "stream",
     "text": [
      "Значений, встретившихся в столбце более 10 раз: 7\n",
      "Уникальных значений: 41\n",
      "<class 'pandas.core.frame.DataFrame'>\n",
      "Int64Index: 1690 entries, 1 to 1794\n",
      "Data columns (total 1 columns):\n",
      " #   Column     Non-Null Count  Dtype \n",
      "---  ------     --------------  ----- \n",
      " 0   bean_type  861 non-null    object\n",
      "dtypes: object(1)\n",
      "memory usage: 26.4+ KB\n"
     ]
    }
   ],
   "source": [
    "cacao.bean_type = cacao.bean_type.astype(str).apply(lambda x: None if x.strip() == '' else x)\n",
    "display(pd.DataFrame(cacao.bean_type.value_counts()))\n",
    "print(\"Значений, встретившихся в столбце более 10 раз:\", (cacao.bean_type.value_counts()>10).sum())\n",
    "print(\"Уникальных значений:\", cacao.bean_type.nunique())\n",
    "cacao.loc[:, ['bean_type']].info()"
   ]
  },
  {
   "cell_type": "markdown",
   "metadata": {},
   "source": [
    "Мы видим, что есть строка со значением nan, надо заменить её на None для удобства. Также мы видим, что многие типы бобов указаны с пояснением, например \"Criollo (Ocumare 67)\", такие значения стоит привести к общему виду."
   ]
  },
  {
   "cell_type": "code",
   "execution_count": 62,
   "metadata": {},
   "outputs": [
    {
     "data": {
      "text/html": [
       "<div>\n",
       "<style scoped>\n",
       "    .dataframe tbody tr th:only-of-type {\n",
       "        vertical-align: middle;\n",
       "    }\n",
       "\n",
       "    .dataframe tbody tr th {\n",
       "        vertical-align: top;\n",
       "    }\n",
       "\n",
       "    .dataframe thead th {\n",
       "        text-align: right;\n",
       "    }\n",
       "</style>\n",
       "<table border=\"1\" class=\"dataframe\">\n",
       "  <thead>\n",
       "    <tr style=\"text-align: right;\">\n",
       "      <th></th>\n",
       "      <th>bean_type</th>\n",
       "    </tr>\n",
       "  </thead>\n",
       "  <tbody>\n",
       "    <tr>\n",
       "      <th>Trinitario</th>\n",
       "      <td>405</td>\n",
       "    </tr>\n",
       "    <tr>\n",
       "      <th>Forastero</th>\n",
       "      <td>179</td>\n",
       "    </tr>\n",
       "    <tr>\n",
       "      <th>Criollo</th>\n",
       "      <td>165</td>\n",
       "    </tr>\n",
       "    <tr>\n",
       "      <th>Criollo, Trinitario</th>\n",
       "      <td>37</td>\n",
       "    </tr>\n",
       "    <tr>\n",
       "      <th>Blend</th>\n",
       "      <td>36</td>\n",
       "    </tr>\n",
       "    <tr>\n",
       "      <th>Trinitario, Criollo</th>\n",
       "      <td>9</td>\n",
       "    </tr>\n",
       "    <tr>\n",
       "      <th>Nacional</th>\n",
       "      <td>5</td>\n",
       "    </tr>\n",
       "    <tr>\n",
       "      <th>EET</th>\n",
       "      <td>3</td>\n",
       "    </tr>\n",
       "    <tr>\n",
       "      <th>Matina</th>\n",
       "      <td>3</td>\n",
       "    </tr>\n",
       "    <tr>\n",
       "      <th>Beniano</th>\n",
       "      <td>3</td>\n",
       "    </tr>\n",
       "    <tr>\n",
       "      <th>Amazon, ICS</th>\n",
       "      <td>2</td>\n",
       "    </tr>\n",
       "    <tr>\n",
       "      <th>Trinitario, Forastero</th>\n",
       "      <td>2</td>\n",
       "    </tr>\n",
       "    <tr>\n",
       "      <th>Criollo, Forastero</th>\n",
       "      <td>2</td>\n",
       "    </tr>\n",
       "    <tr>\n",
       "      <th>Amazon mix</th>\n",
       "      <td>2</td>\n",
       "    </tr>\n",
       "    <tr>\n",
       "      <th>Trinitario, Nacional</th>\n",
       "      <td>1</td>\n",
       "    </tr>\n",
       "    <tr>\n",
       "      <th>Trinitario, TCGA</th>\n",
       "      <td>1</td>\n",
       "    </tr>\n",
       "    <tr>\n",
       "      <th>Criollo, +</th>\n",
       "      <td>1</td>\n",
       "    </tr>\n",
       "    <tr>\n",
       "      <th>Blend-Forastero,Criollo</th>\n",
       "      <td>1</td>\n",
       "    </tr>\n",
       "    <tr>\n",
       "      <th>CCN51</th>\n",
       "      <td>1</td>\n",
       "    </tr>\n",
       "    <tr>\n",
       "      <th>Forastero, Trinitario</th>\n",
       "      <td>1</td>\n",
       "    </tr>\n",
       "    <tr>\n",
       "      <th>Amazon</th>\n",
       "      <td>1</td>\n",
       "    </tr>\n",
       "  </tbody>\n",
       "</table>\n",
       "</div>"
      ],
      "text/plain": [
       "                         bean_type\n",
       "Trinitario                     405\n",
       "Forastero                      179\n",
       "Criollo                        165\n",
       "Criollo, Trinitario             37\n",
       "Blend                           36\n",
       "Trinitario, Criollo              9\n",
       "Nacional                         5\n",
       "EET                              3\n",
       "Matina                           3\n",
       "Beniano                          3\n",
       "Amazon, ICS                      2\n",
       "Trinitario, Forastero            2\n",
       "Criollo, Forastero               2\n",
       "Amazon mix                       2\n",
       "Trinitario, Nacional             1\n",
       "Trinitario, TCGA                 1\n",
       "Criollo, +                       1\n",
       "Blend-Forastero,Criollo          1\n",
       "CCN51                            1\n",
       "Forastero, Trinitario            1\n",
       "Amazon                           1"
      ]
     },
     "metadata": {},
     "output_type": "display_data"
    },
    {
     "name": "stdout",
     "output_type": "stream",
     "text": [
      "Значений, встретившихся в столбце более 10 раз: 5\n",
      "Уникальных значений: 21\n",
      "<class 'pandas.core.frame.DataFrame'>\n",
      "Int64Index: 1690 entries, 1 to 1794\n",
      "Data columns (total 1 columns):\n",
      " #   Column     Non-Null Count  Dtype \n",
      "---  ------     --------------  ----- \n",
      " 0   bean_type  860 non-null    object\n",
      "dtypes: object(1)\n",
      "memory usage: 26.4+ KB\n"
     ]
    }
   ],
   "source": [
    "cacao.bean_type = cacao.bean_type.apply(lambda x: None if pd.isnull(x) else None if x == 'nan' \n",
    "                      else x if '(' not in x else x[:x.find('(')].strip())\n",
    "display(pd.DataFrame(cacao.bean_type.value_counts()))\n",
    "print(\"Значений, встретившихся в столбце более 10 раз:\", (cacao.bean_type.value_counts()>10).sum())\n",
    "print(\"Уникальных значений:\", cacao.bean_type.nunique())\n",
    "cacao.loc[:, ['bean_type']].info()"
   ]
  },
  {
   "cell_type": "markdown",
   "metadata": {},
   "source": [
    "#### 3.10 broad_origin"
   ]
  },
  {
   "cell_type": "code",
   "execution_count": 63,
   "metadata": {},
   "outputs": [
    {
     "data": {
      "text/html": [
       "<div>\n",
       "<style scoped>\n",
       "    .dataframe tbody tr th:only-of-type {\n",
       "        vertical-align: middle;\n",
       "    }\n",
       "\n",
       "    .dataframe tbody tr th {\n",
       "        vertical-align: top;\n",
       "    }\n",
       "\n",
       "    .dataframe thead th {\n",
       "        text-align: right;\n",
       "    }\n",
       "</style>\n",
       "<table border=\"1\" class=\"dataframe\">\n",
       "  <thead>\n",
       "    <tr style=\"text-align: right;\">\n",
       "      <th></th>\n",
       "      <th>broad_origin</th>\n",
       "    </tr>\n",
       "  </thead>\n",
       "  <tbody>\n",
       "    <tr>\n",
       "      <th>Venezuela</th>\n",
       "      <td>202</td>\n",
       "    </tr>\n",
       "    <tr>\n",
       "      <th>Ecuador</th>\n",
       "      <td>179</td>\n",
       "    </tr>\n",
       "    <tr>\n",
       "      <th>Peru</th>\n",
       "      <td>159</td>\n",
       "    </tr>\n",
       "    <tr>\n",
       "      <th>Madagascar</th>\n",
       "      <td>138</td>\n",
       "    </tr>\n",
       "    <tr>\n",
       "      <th>Dominican Republic</th>\n",
       "      <td>135</td>\n",
       "    </tr>\n",
       "    <tr>\n",
       "      <th>...</th>\n",
       "      <td>...</td>\n",
       "    </tr>\n",
       "    <tr>\n",
       "      <th>Principe</th>\n",
       "      <td>1</td>\n",
       "    </tr>\n",
       "    <tr>\n",
       "      <th>Peru, Belize</th>\n",
       "      <td>1</td>\n",
       "    </tr>\n",
       "    <tr>\n",
       "      <th>South America, Africa</th>\n",
       "      <td>1</td>\n",
       "    </tr>\n",
       "    <tr>\n",
       "      <th>Venezuela, Carribean</th>\n",
       "      <td>1</td>\n",
       "    </tr>\n",
       "    <tr>\n",
       "      <th>Gabon</th>\n",
       "      <td>1</td>\n",
       "    </tr>\n",
       "  </tbody>\n",
       "</table>\n",
       "<p>97 rows × 1 columns</p>\n",
       "</div>"
      ],
      "text/plain": [
       "                       broad_origin\n",
       "Venezuela                       202\n",
       "Ecuador                         179\n",
       "Peru                            159\n",
       "Madagascar                      138\n",
       "Dominican Republic              135\n",
       "...                             ...\n",
       "Principe                          1\n",
       "Peru, Belize                      1\n",
       "South America, Africa             1\n",
       "Venezuela, Carribean              1\n",
       "Gabon                             1\n",
       "\n",
       "[97 rows x 1 columns]"
      ]
     },
     "metadata": {},
     "output_type": "display_data"
    },
    {
     "name": "stdout",
     "output_type": "stream",
     "text": [
      "Значений, упомянутых более 10 раз: 26\n",
      "Уникальных значений: 97\n",
      "<class 'pandas.core.frame.DataFrame'>\n",
      "Int64Index: 1690 entries, 1 to 1794\n",
      "Data columns (total 1 columns):\n",
      " #   Column        Non-Null Count  Dtype \n",
      "---  ------        --------------  ----- \n",
      " 0   broad_origin  1689 non-null   object\n",
      "dtypes: object(1)\n",
      "memory usage: 26.4+ KB\n"
     ]
    }
   ],
   "source": [
    "display(pd.DataFrame(cacao.broad_origin.value_counts()))\n",
    "print('Значений, упомянутых более 10 раз:', (cacao.broad_origin.value_counts()>10).sum())\n",
    "print(\"Уникальных значений:\", cacao.broad_origin.nunique())\n",
    "cacao.loc[:, ['broad_origin']].info()"
   ]
  },
  {
   "cell_type": "markdown",
   "metadata": {},
   "source": [
    "Обратим внимание, что в столбце много повторяющихся значений с различным написанием. Давайте это исправим, написав дополнительную функцию и применив ее к полю broad_origin датасета.\n",
    "Посмотрим, как изменились данные:"
   ]
  },
  {
   "cell_type": "code",
   "execution_count": 66,
   "metadata": {},
   "outputs": [
    {
     "data": {
      "text/html": [
       "<div>\n",
       "<style scoped>\n",
       "    .dataframe tbody tr th:only-of-type {\n",
       "        vertical-align: middle;\n",
       "    }\n",
       "\n",
       "    .dataframe tbody tr th {\n",
       "        vertical-align: top;\n",
       "    }\n",
       "\n",
       "    .dataframe thead th {\n",
       "        text-align: right;\n",
       "    }\n",
       "</style>\n",
       "<table border=\"1\" class=\"dataframe\">\n",
       "  <thead>\n",
       "    <tr style=\"text-align: right;\">\n",
       "      <th></th>\n",
       "      <th>broad_origin</th>\n",
       "    </tr>\n",
       "  </thead>\n",
       "  <tbody>\n",
       "    <tr>\n",
       "      <th>Venezuela</th>\n",
       "      <td>202</td>\n",
       "    </tr>\n",
       "    <tr>\n",
       "      <th>Ecuador</th>\n",
       "      <td>179</td>\n",
       "    </tr>\n",
       "    <tr>\n",
       "      <th>Peru</th>\n",
       "      <td>160</td>\n",
       "    </tr>\n",
       "    <tr>\n",
       "      <th>Madagascar</th>\n",
       "      <td>138</td>\n",
       "    </tr>\n",
       "    <tr>\n",
       "      <th>DominicanRepublic</th>\n",
       "      <td>135</td>\n",
       "    </tr>\n",
       "    <tr>\n",
       "      <th>...</th>\n",
       "      <td>...</td>\n",
       "    </tr>\n",
       "    <tr>\n",
       "      <th>Peru,Belize</th>\n",
       "      <td>1</td>\n",
       "    </tr>\n",
       "    <tr>\n",
       "      <th>Principe</th>\n",
       "      <td>1</td>\n",
       "    </tr>\n",
       "    <tr>\n",
       "      <th>Burma</th>\n",
       "      <td>1</td>\n",
       "    </tr>\n",
       "    <tr>\n",
       "      <th>DomincanRepublic,Ecuador,Peru</th>\n",
       "      <td>1</td>\n",
       "    </tr>\n",
       "    <tr>\n",
       "      <th>Venezuela,DomincanRepublic</th>\n",
       "      <td>1</td>\n",
       "    </tr>\n",
       "  </tbody>\n",
       "</table>\n",
       "<p>94 rows × 1 columns</p>\n",
       "</div>"
      ],
      "text/plain": [
       "                               broad_origin\n",
       "Venezuela                               202\n",
       "Ecuador                                 179\n",
       "Peru                                    160\n",
       "Madagascar                              138\n",
       "DominicanRepublic                       135\n",
       "...                                     ...\n",
       "Peru,Belize                               1\n",
       "Principe                                  1\n",
       "Burma                                     1\n",
       "DomincanRepublic,Ecuador,Peru             1\n",
       "Venezuela,DomincanRepublic                1\n",
       "\n",
       "[94 rows x 1 columns]"
      ]
     },
     "metadata": {},
     "output_type": "display_data"
    },
    {
     "name": "stdout",
     "output_type": "stream",
     "text": [
      "Значений, упомянутых более 10 раз: 26\n",
      "Уникальных значений: 94\n",
      "<class 'pandas.core.frame.DataFrame'>\n",
      "Int64Index: 1690 entries, 1 to 1794\n",
      "Data columns (total 1 columns):\n",
      " #   Column        Non-Null Count  Dtype \n",
      "---  ------        --------------  ----- \n",
      " 0   broad_origin  1689 non-null   object\n",
      "dtypes: object(1)\n",
      "memory usage: 26.4+ KB\n"
     ]
    }
   ],
   "source": [
    "def fix_countries(x):\n",
    "    if pd.isnull(x):\n",
    "        return x\n",
    "    if x == 'nan':\n",
    "        return None\n",
    "    x = x.replace(' ', '')\n",
    "    x = x.replace('/', ',') # Venezuela/ Ghana\n",
    "    x = x.replace('&', ',')\n",
    "    if '(' in x:\n",
    "        x = x[:x.find('(')] #Peru(SMartin,Pangoa,nacional)\n",
    "    x = x.replace('Guat.', 'Guatemala')\n",
    "    \n",
    "    if 'Ven' in x and 'Venezuela' not in x:\n",
    "        x = x.replace('Venez', 'Venezuela') #Venez,Africa,Brasil,Peru,Mex\n",
    "        x = x.replace('Ven,', 'Venezuela,') #Ven, Trinidad, Ecuador\n",
    "        x = x.replace('Ven.', 'Venezuela') #Ven., Trinidad, Mad.\n",
    "        if 'Ven' in x and 'Venezuela' not in x:\n",
    "            x = x.replace('Ven', 'Venezuela')\n",
    "        \n",
    "    x = x.replace('Dom.Rep.', 'DomincanRepublic')\n",
    "    x = x.replace('DR', 'DomincanRepublic')\n",
    "    x = x.replace('Dom.Rep', 'DomincanRepublic')\n",
    "    x = x.replace('D.R.', 'DomincanRepublic')\n",
    "    x = x.replace('DominicanRep.', 'DomincanRepublic')\n",
    "    x = x.replace('Domin.Rep', 'DomincanRepublic')\n",
    "    x = x.replace('Domin.Re', 'DomincanRepublic')\n",
    "    \n",
    "    if 'Jam' in x and 'Jamaica' not in x:\n",
    "        x = x.replace('Jam', 'Jamaica')\n",
    "        \n",
    "    if 'Mad.' in x and 'Madagascar' not in x:\n",
    "        x = x.replace('Mad.', 'Madagascar')\n",
    "    elif 'Mad' in x and 'Madagascar' not in x:\n",
    "        x = x.replace('Mad', 'Madagascar')\n",
    "    elif 'Ma' in x and 'Madagascar' not in x:\n",
    "        x = x.replace('Ma', 'Madagascar')\n",
    "        \n",
    "    if 'Hait' in x and 'Haiti' not in x:\n",
    "        x = x.replace('Hait', 'Haiti')\n",
    "        \n",
    "    if 'Per' in x and 'Peru'  not in x:\n",
    "        x = x.replace('Per', 'Peru')\n",
    "    \n",
    "    x = x.replace('Nic.', 'Nicaragua')\n",
    "\n",
    "    x = x.replace('Gre.', 'Grenada')\n",
    "    \n",
    "    x = x.replace('PNG', 'PapuaNewGuinea')\n",
    "    \n",
    "    if 'Mex' in x and 'Mexico' not in x:\n",
    "        x = x.replace('Mex', 'Mexico')\n",
    "        \n",
    "    x = x.replace('Haw.', 'Hawaii')\n",
    "    \n",
    "    x = x.replace('Ecuad.', 'Ecuador')\n",
    "    x = x.replace('Ecu.', 'Ecuador')\n",
    "    \n",
    "    \n",
    "    return x\n",
    "\n",
    "cacao.broad_origin = cacao.broad_origin.apply(fix_countries).sort_values()\n",
    "\n",
    "display(pd.DataFrame(cacao.broad_origin.value_counts()))\n",
    "print('Значений, упомянутых более 10 раз:', (cacao.broad_origin.value_counts()>10).sum())\n",
    "print(\"Уникальных значений:\", cacao.broad_origin.nunique())\n",
    "cacao.loc[:, ['broad_origin']].info()"
   ]
  },
  {
   "cell_type": "markdown",
   "metadata": {},
   "source": [
    "# 4.Корреляционный анализ"
   ]
  },
  {
   "cell_type": "markdown",
   "metadata": {},
   "source": [
    "Выясним, какие столбцы коррелируют с оценкой шоколадных батончиков. Это поможет понять, какие параметры стоит оставить для модели, а какие — исключить. \n",
    "\n",
    "Корреляции рассмотрим только для числовых столбцов.\n",
    "\n",
    "Для быстрого построения графиков зависимости переменных можно воспользоваться функцией pairplot из модуля seaborn:"
   ]
  },
  {
   "cell_type": "code",
   "execution_count": 67,
   "metadata": {},
   "outputs": [
    {
     "data": {
      "text/plain": [
       "<seaborn.axisgrid.PairGrid at 0x251a239bec8>"
      ]
     },
     "execution_count": 67,
     "metadata": {},
     "output_type": "execute_result"
    },
    {
     "data": {
      "image/png": "[encoded data removed]",
      "text/plain": [
       "<Figure size 720x720 with 20 Axes>"
      ]
     },
     "metadata": {
      "needs_background": "light"
     },
     "output_type": "display_data"
    }
   ],
   "source": [
    "sns.pairplot(cacao, kind = 'reg')"
   ]
  },
  {
   "cell_type": "code",
   "execution_count": 68,
   "metadata": {},
   "outputs": [
    {
     "data": {
      "text/html": [
       "<div>\n",
       "<style scoped>\n",
       "    .dataframe tbody tr th:only-of-type {\n",
       "        vertical-align: middle;\n",
       "    }\n",
       "\n",
       "    .dataframe tbody tr th {\n",
       "        vertical-align: top;\n",
       "    }\n",
       "\n",
       "    .dataframe thead th {\n",
       "        text-align: right;\n",
       "    }\n",
       "</style>\n",
       "<table border=\"1\" class=\"dataframe\">\n",
       "  <thead>\n",
       "    <tr style=\"text-align: right;\">\n",
       "      <th></th>\n",
       "      <th>ref</th>\n",
       "      <th>review_date</th>\n",
       "      <th>cocoa_percent</th>\n",
       "      <th>rating</th>\n",
       "    </tr>\n",
       "  </thead>\n",
       "  <tbody>\n",
       "    <tr>\n",
       "      <th>ref</th>\n",
       "      <td>1.000000</td>\n",
       "      <td>0.984913</td>\n",
       "      <td>0.083765</td>\n",
       "      <td>0.016189</td>\n",
       "    </tr>\n",
       "    <tr>\n",
       "      <th>review_date</th>\n",
       "      <td>0.984913</td>\n",
       "      <td>1.000000</td>\n",
       "      <td>0.086523</td>\n",
       "      <td>0.006703</td>\n",
       "    </tr>\n",
       "    <tr>\n",
       "      <th>cocoa_percent</th>\n",
       "      <td>0.083765</td>\n",
       "      <td>0.086523</td>\n",
       "      <td>1.000000</td>\n",
       "      <td>-0.078156</td>\n",
       "    </tr>\n",
       "    <tr>\n",
       "      <th>rating</th>\n",
       "      <td>0.016189</td>\n",
       "      <td>0.006703</td>\n",
       "      <td>-0.078156</td>\n",
       "      <td>1.000000</td>\n",
       "    </tr>\n",
       "  </tbody>\n",
       "</table>\n",
       "</div>"
      ],
      "text/plain": [
       "                    ref  review_date  cocoa_percent    rating\n",
       "ref            1.000000     0.984913       0.083765  0.016189\n",
       "review_date    0.984913     1.000000       0.086523  0.006703\n",
       "cocoa_percent  0.083765     0.086523       1.000000 -0.078156\n",
       "rating         0.016189     0.006703      -0.078156  1.000000"
      ]
     },
     "execution_count": 68,
     "metadata": {},
     "output_type": "execute_result"
    }
   ],
   "source": [
    "# Используем для наглядности матрицу корреляций:\n",
    "cacao.corr()"
   ]
  },
  {
   "cell_type": "markdown",
   "metadata": {},
   "source": [
    "Так как переменные review_date и ref скоррелированы почти полностью, одну переменную можно исключить. Пусть это будет переменная REF.\n",
    "\n",
    "Останутся две слабоскоррелированные с рейтингом переменные: cocoa_percent и review_date.\n",
    "\n",
    "Интересно, что положительная корреляция параметра review_date и rating может говорить как о том, что со временем батончики действительно становятся лучше, так и о том, что рейтинги просто завышаются."
   ]
  },
  {
   "cell_type": "markdown",
   "metadata": {},
   "source": [
    "# 5.Анализ номинативных переменных"
   ]
  },
  {
   "cell_type": "markdown",
   "metadata": {},
   "source": [
    "Очевидно, что для номинативных переменных использовать корреляционный анализ не получится. Однако можно посмотреть, различаются ли распределения рейтинга в зависимости от значения этих переменных. Это можно сделать, например, с помощью box-plot или KDE-plot (график показывает плотность распределения переменных).\n",
    "\n",
    "Номинативные переменные, которые осталось рассмотреть: company, specific_origin, company_location, bean_type, broad_origin.\n",
    "\n",
    "Так как уникальных значений в столбцах достаточно много, будем брать в рассмотрение по, например, 10 самых частотных."
   ]
  },
  {
   "cell_type": "code",
   "execution_count": 69,
   "metadata": {},
   "outputs": [
    {
     "data": {
      "image/png": "[encoded data removed]",
      "text/plain": [
       "<Figure size 1008x288 with 1 Axes>"
      ]
     },
     "metadata": {
      "needs_background": "light"
     },
     "output_type": "display_data"
    },
    {
     "data": {
      "image/png": "[encoded data removed]",
      "text/plain": [
       "<Figure size 1008x288 with 1 Axes>"
      ]
     },
     "metadata": {
      "needs_background": "light"
     },
     "output_type": "display_data"
    },
    {
     "data": {
      "image/png": "[encoded data removed]",
      "text/plain": [
       "<Figure size 1008x288 with 1 Axes>"
      ]
     },
     "metadata": {
      "needs_background": "light"
     },
     "output_type": "display_data"
    },
    {
     "data": {
      "image/png": "[encoded data removed]",
      "text/plain": [
       "<Figure size 1008x288 with 1 Axes>"
      ]
     },
     "metadata": {
      "needs_background": "light"
     },
     "output_type": "display_data"
    },
    {
     "data": {
      "image/png": "[encoded data removed]",
      "text/plain": [
       "<Figure size 1008x288 with 1 Axes>"
      ]
     },
     "metadata": {
      "needs_background": "light"
     },
     "output_type": "display_data"
    }
   ],
   "source": [
    "def get_boxplot(column):\n",
    "    fig, ax = plt.subplots(figsize = (14, 4))\n",
    "    sns.boxplot(x=column, y='rating', \n",
    "                data=cacao.loc[cacao.loc[:, column].isin(cacao.loc[:, column].value_counts().index[:10])],\n",
    "               ax=ax)\n",
    "    plt.xticks(rotation=45)\n",
    "    ax.set_title('Boxplot for ' + column)\n",
    "    plt.show()\n",
    "for col in ['company', 'specific_origin', 'company_location', 'bean_type', 'broad_origin']:\n",
    "    get_boxplot(col)"
   ]
  },
  {
   "cell_type": "markdown",
   "metadata": {},
   "source": [
    "По графикам похоже, что все параметры, кроме broad_origin, могут влиять на оценку батончика. Однако графики являются лишь вспомогательным инструментом, настоящую значимость различий может помочь распознать статистика. Проверим, есть ли статистическая разница в распределении оценок по номинативным признакам, с помощью теста Стьюдента. Проверим нулевую гипотезу о том, что распределения оценок батончиков по различным параметрам неразличимы:"
   ]
  },
  {
   "cell_type": "code",
   "execution_count": 70,
   "metadata": {},
   "outputs": [
    {
     "name": "stdout",
     "output_type": "stream",
     "text": [
      "Найдены статистически значимые различия для колонки company\n",
      "Найдены статистически значимые различия для колонки specific_origin\n",
      "Найдены статистически значимые различия для колонки company_location\n"
     ]
    }
   ],
   "source": [
    "def get_stat_dif(column):\n",
    "    cols = cacao.loc[:, column].value_counts().index[:10]\n",
    "    combinations_all = list(combinations(cols, 2))\n",
    "    for comb in combinations_all:\n",
    "        if ttest_ind(cacao.loc[cacao.loc[:, column] == comb[0], 'rating'], \n",
    "                        cacao.loc[cacao.loc[:, column] == comb[1], 'rating']).pvalue \\\n",
    "            <= 0.05/len(combinations_all): # Учли поправку Бонферони\n",
    "            print('Найдены статистически значимые различия для колонки', column)\n",
    "            break\n",
    "for col in ['company', 'specific_origin', 'company_location', 'bean_type', 'broad_origin']:\n",
    "    get_stat_dif(col)            "
   ]
  },
  {
   "cell_type": "markdown",
   "metadata": {},
   "source": [
    "Как мы видим, серьёзно отличаются три параметра: company,  specific_origin и  company_location. Оставим эти переменные в датасете для дальнейшего построения модели. Итак, в нашем случае важные переменные, которые, возможно, оказывают влияние на оценку, это: company, specific_origin, company_location, review_date, cocoa_percent."
   ]
  },
  {
   "cell_type": "code",
   "execution_count": 71,
   "metadata": {},
   "outputs": [
    {
     "data": {
      "text/html": [
       "<div>\n",
       "<style scoped>\n",
       "    .dataframe tbody tr th:only-of-type {\n",
       "        vertical-align: middle;\n",
       "    }\n",
       "\n",
       "    .dataframe tbody tr th {\n",
       "        vertical-align: top;\n",
       "    }\n",
       "\n",
       "    .dataframe thead th {\n",
       "        text-align: right;\n",
       "    }\n",
       "</style>\n",
       "<table border=\"1\" class=\"dataframe\">\n",
       "  <thead>\n",
       "    <tr style=\"text-align: right;\">\n",
       "      <th></th>\n",
       "      <th>company</th>\n",
       "      <th>specific_origin</th>\n",
       "      <th>company_location</th>\n",
       "      <th>review_date</th>\n",
       "      <th>cocoa_percent</th>\n",
       "    </tr>\n",
       "  </thead>\n",
       "  <tbody>\n",
       "    <tr>\n",
       "      <th>1</th>\n",
       "      <td>A. Morin</td>\n",
       "      <td>Kpime</td>\n",
       "      <td>France</td>\n",
       "      <td>2015</td>\n",
       "      <td>70.0</td>\n",
       "    </tr>\n",
       "    <tr>\n",
       "      <th>3</th>\n",
       "      <td>A. Morin</td>\n",
       "      <td>Akata</td>\n",
       "      <td>France</td>\n",
       "      <td>2015</td>\n",
       "      <td>70.0</td>\n",
       "    </tr>\n",
       "    <tr>\n",
       "      <th>4</th>\n",
       "      <td>A. Morin</td>\n",
       "      <td>Quilla</td>\n",
       "      <td>France</td>\n",
       "      <td>2015</td>\n",
       "      <td>70.0</td>\n",
       "    </tr>\n",
       "    <tr>\n",
       "      <th>5</th>\n",
       "      <td>A. Morin</td>\n",
       "      <td>Carenero</td>\n",
       "      <td>France</td>\n",
       "      <td>2014</td>\n",
       "      <td>70.0</td>\n",
       "    </tr>\n",
       "    <tr>\n",
       "      <th>6</th>\n",
       "      <td>A. Morin</td>\n",
       "      <td>Cuba</td>\n",
       "      <td>France</td>\n",
       "      <td>2014</td>\n",
       "      <td>70.0</td>\n",
       "    </tr>\n",
       "  </tbody>\n",
       "</table>\n",
       "</div>"
      ],
      "text/plain": [
       "    company specific_origin company_location  review_date  cocoa_percent\n",
       "1  A. Morin           Kpime           France         2015           70.0\n",
       "3  A. Morin           Akata           France         2015           70.0\n",
       "4  A. Morin          Quilla           France         2015           70.0\n",
       "5  A. Morin        Carenero           France         2014           70.0\n",
       "6  A. Morin            Cuba           France         2014           70.0"
      ]
     },
     "execution_count": 71,
     "metadata": {},
     "output_type": "execute_result"
    }
   ],
   "source": [
    "cacao_for_model = cacao.loc[:, ['company', 'specific_origin', 'company_location', 'review_date', 'cocoa_percent']]\n",
    "cacao_for_model.head()"
   ]
  },
  {
   "cell_type": "markdown",
   "metadata": {},
   "source": [
    "# 6. Выводы"
   ]
  },
  {
   "cell_type": "markdown",
   "metadata": {},
   "source": [
    "Настало время подвести выводы.\n",
    "\n",
    "Итак, в результате EDA для анализа влияния параметров шоколада на экспертную оценку шоколадных батончиков были получены следующие выводы:\n",
    "\n",
    "В данных достаточно мало пустых значений, только столбец bean_type был заполнен в малом количестве случаев.\n",
    "Выбросы найдены только в столбцах с рейтингом и содержанием какао в шоколаде батончиков, что позволяет сделать вывод о том, что данные достаточно чистые.\n",
    "Положительная корреляция параметра review_date и rating может говорить о том, что с годами рейтинги потихоньку завышаются, либо батончики становятся лучше.\n",
    "Самые важные параметры, которые предлагается использовать в дальнейшем для построения модели, это company, specific_origin, company_location, review_date и cocoa_percent."
   ]
  }
 ],
 "metadata": {
  "kernelspec": {
   "display_name": "Python 3",
   "language": "python",
   "name": "python3"
  },
  "language_info": {
   "codemirror_mode": {
    "name": "ipython",
    "version": 3
   },
   "file_extension": ".py",
   "mimetype": "text/x-python",
   "name": "python",
   "nbconvert_exporter": "python",
   "pygments_lexer": "ipython3",
   "version": "3.7.6"
  }
 },
 "nbformat": 4,
 "nbformat_minor": 4
}
